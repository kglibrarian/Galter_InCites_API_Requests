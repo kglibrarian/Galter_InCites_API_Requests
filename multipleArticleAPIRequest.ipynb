{
 "cells": [
  {
   "cell_type": "code",
   "execution_count": null,
   "metadata": {},
   "outputs": [],
   "source": [
    "# Dependencies\n",
    "import requests\n",
    "import json\n",
    "import pandas as pd\n",
    "import numpy as np\n",
    "import re\n",
    "import io\n",
    "from config import api_key_inCites\n",
    "from config import api_key_WOS\n",
    "from collections import OrderedDict\n",
    "from pandas.io.json import json_normalize  \n",
    "import base64\n",
    "import xmltodict"
   ]
  },
  {
   "cell_type": "code",
   "execution_count": null,
   "metadata": {},
   "outputs": [],
   "source": [
    "# Create a reference to the CSV and import it into a Pandas DataFrame\n",
    "# csv_path = \"WOS_test.csv\"\n",
    "# WOS_df = pd.read_csv(csv_path)\n",
    "# WOS_df.head()\n",
    "#test here"
   ]
  },
  {
   "cell_type": "code",
   "execution_count": null,
   "metadata": {},
   "outputs": [],
   "source": [
    "# get a username and password in the following format   [ USERNAME:PASSWORD ]\n",
    "userdata = input(\"Authentication in this format [USERNAME:Password]->\")"
   ]
  },
  {
   "cell_type": "code",
   "execution_count": null,
   "metadata": {},
   "outputs": [],
   "source": [
    "#prepare authentication using base64 encoding:\n",
    "endata = base64.b64encode(userdata.encode(\"utf-8\"))"
   ]
  },
  {
   "cell_type": "code",
   "execution_count": null,
   "metadata": {},
   "outputs": [],
   "source": [
    "#Authentication Endpoint\n",
    "Aurl=\"http://search.webofknowledge.com/esti/wokmws/ws/WOKMWSAuthenticate?WSDL\""
   ]
  },
  {
   "cell_type": "code",
   "execution_count": 6,
   "metadata": {},
   "outputs": [],
   "source": [
    "# Header content\n",
    "headers = {'content-type': 'application/soap+xml', 'Authorization': 'Basic ' + str(endata)}"
   ]
  },
  {
   "cell_type": "code",
   "execution_count": 7,
   "metadata": {},
   "outputs": [],
   "source": [
    "# Authentication request SOAP Envelope (XML)\n",
    "body = \"\"\"<soapenv:Envelope xmlns:soapenv=\"http://schemas.xmlsoap.org/soap/envelope/\" xmlns:auth=\"http://auth.cxf.wokmws.thomsonreuters.com\">\n",
    "   <soapenv:Header/>\n",
    "   <soapenv:Body>\n",
    "      <auth:authenticate/>\n",
    "   </soapenv:Body>\n",
    "</soapenv:Envelope>\"\"\""
   ]
  },
  {
   "cell_type": "code",
   "execution_count": 8,
   "metadata": {},
   "outputs": [
    {
     "name": "stdout",
     "output_type": "stream",
     "text": [
      "response received successfully\n"
     ]
    }
   ],
   "source": [
    "# Send an authentication request and check\n",
    "response = requests.post(Aurl,data=body,headers=headers)\n",
    "\n",
    "# Check successful\n",
    "if response.status_code:\n",
    "  print('response received successfully')\n",
    "  flag = True\n",
    "else:\n",
    "   flag = False\n",
    "   print(\"Fail authentication, check your username and passowrd. Remember they're case senstive\")"
   ]
  },
  {
   "cell_type": "code",
   "execution_count": 9,
   "metadata": {},
   "outputs": [],
   "source": [
    "# if the autentication successful\n",
    "if flag:\n",
    "  for itm in response.headers.items():\n",
    "      if 'Cookie' in itm[0]:\n",
    "        SID = itm[1]\n",
    "        print ('Session ID:', SID[4:])"
   ]
  },
  {
   "cell_type": "code",
   "execution_count": 10,
   "metadata": {},
   "outputs": [],
   "source": [
    "# prepare the url with sevice url\n",
    "Qrul = 'http://search.webofknowledge.com/esti/wokmws/ws/WokSearchLite?wsdl'"
   ]
  },
  {
   "cell_type": "code",
   "execution_count": 11,
   "metadata": {},
   "outputs": [
    {
     "ename": "NameError",
     "evalue": "name 'SID' is not defined",
     "output_type": "error",
     "traceback": [
      "\u001b[1;31m---------------------------------------------------------------------------\u001b[0m",
      "\u001b[1;31mNameError\u001b[0m                                 Traceback (most recent call last)",
      "\u001b[1;32m<ipython-input-11-f1ee09d3dab1>\u001b[0m in \u001b[0;36m<module>\u001b[1;34m()\u001b[0m\n\u001b[0;32m      1\u001b[0m \u001b[1;31m# set header with session id (SID) value\u001b[0m\u001b[1;33m\u001b[0m\u001b[1;33m\u001b[0m\u001b[0m\n\u001b[1;32m----> 2\u001b[1;33m \u001b[0mheaders\u001b[0m \u001b[1;33m=\u001b[0m \u001b[1;33m{\u001b[0m\u001b[1;34m'content-type'\u001b[0m\u001b[1;33m:\u001b[0m \u001b[1;34m'application/json'\u001b[0m\u001b[1;33m,\u001b[0m \u001b[1;34m'Cookie'\u001b[0m\u001b[1;33m:\u001b[0m \u001b[0mSID\u001b[0m\u001b[1;33m}\u001b[0m\u001b[1;33m\u001b[0m\u001b[0m\n\u001b[0m",
      "\u001b[1;31mNameError\u001b[0m: name 'SID' is not defined"
     ]
    }
   ],
   "source": [
    "# set header with session id (SID) value\n",
    "headers = {'content-type': 'application/json', 'Cookie': SID}"
   ]
  },
  {
   "cell_type": "code",
   "execution_count": 12,
   "metadata": {},
   "outputs": [],
   "source": [
    "# Write a proper query: This is an institutional level query\n",
    "Dquery = \"\"\"<soap:Envelope xmlns:soap=\"http://schemas.xmlsoap.org/soap/envelope/\">\n",
    " <soap:Header/>\n",
    " <soap:Body>\n",
    " <ns2:search xmlns:ns2=\"http://woksearchlite.v3.wokmws.thomsonreuters.com\">\n",
    " <queryParameters>\n",
    " <databaseId>WOS</databaseId>\n",
    " <editions>\n",
    " <collection>WOS</collection>\n",
    " <edition>SCI</edition>\n",
    " </editions>\n",
    " <editions>\n",
    " <collection>WOS</collection>\n",
    " <edition>ISTP</edition>\n",
    " </editions>\n",
    "  <editions>\n",
    " <collection>WOS</collection>\n",
    " <edition>SSCI</edition>\n",
    " </editions>\n",
    " <editions>\n",
    " <collection>WOS</collection>\n",
    " <edition>AHCI</edition>\n",
    " </editions>\n",
    " <editions>\n",
    " <collection>WOS</collection>\n",
    " <edition>ISSHP</edition>\n",
    " </editions>\n",
    "  <editions>\n",
    " <collection>WOS</collection>\n",
    " <edition>ESCI</edition>\n",
    " </editions>\n",
    " <queryLanguage>en</queryLanguage>\n",
    " <timeSpan>\n",
    " <begin>1900-01-01</begin>\n",
    " <end>2019-10-26</end>\n",
    " </timeSpan>\n",
    " <userQuery>OG=King Fahd Univ*</userQuery>\n",
    " </queryParameters>\n",
    " <retrieveParameters>\n",
    " <count>100</count>\n",
    " <firstRecord>1</firstRecord>\n",
    " </retrieveParameters>\n",
    " </ns2:search>\n",
    " </soap:Body>\n",
    "</soap:Envelope>\"\"\""
   ]
  },
  {
   "cell_type": "code",
   "execution_count": 13,
   "metadata": {},
   "outputs": [
    {
     "name": "stdout",
     "output_type": "stream",
     "text": [
      "response received\n"
     ]
    }
   ],
   "source": [
    "# send a query  and check if it is successful\n",
    "response = requests.post(Qrul,data=Dquery,headers=headers)\n",
    "\n",
    "# check successful\n",
    "if response.status_code:\n",
    "  print('response received')\n",
    "  flag = True\n",
    "else:\n",
    "   flag = False\n",
    "   print('Fail authentication')"
   ]
  },
  {
   "cell_type": "code",
   "execution_count": 14,
   "metadata": {},
   "outputs": [],
   "source": [
    "# Convert successful response to dictionary\n",
    "if flag:\n",
    "  x= xmltodict.parse(response.content)\n",
    "else:\n",
    "  print('Not successful')"
   ]
  },
  {
   "cell_type": "code",
   "execution_count": 15,
   "metadata": {},
   "outputs": [],
   "source": [
    "# dumps it to json\n",
    "jdumps = json.dumps(x,indent=1)"
   ]
  },
  {
   "cell_type": "code",
   "execution_count": 16,
   "metadata": {},
   "outputs": [],
   "source": [
    "# get loads of the data\n",
    "jDict= json.loads(jdumps)"
   ]
  },
  {
   "cell_type": "code",
   "execution_count": null,
   "metadata": {},
   "outputs": [],
   "source": []
  },
  {
   "cell_type": "code",
   "execution_count": null,
   "metadata": {},
   "outputs": [],
   "source": [
    "#http://help.incites.clarivate.com/wosWebServicesExpanded/WebServicesExpandedOverviewGroup/Introduction/ServiceEndpointAddresses.html\n",
    "#https://github.com/Jask-Code/Research-Analytics/blob/master/WOS_API_Automation.ipynb\n",
    "#http://search.webofknowledge.com/esti/wokmws/ws/WokSearch\n",
    "#http://help.incites.clarivate.com/wosWebServicesExpanded/appendix1Group/wosfieldNameTable.html\n",
    "# DOI  /dynamic_data/cluster_related/identifiers\n",
    "# .../UID \n",
    "##Authentication Endpoint\n",
    "#Aurl=\"http://search.webofknowledge.com/esti/wokmws/ws/WOKMWSAuthenticate?WSDL\"\n",
    "\n",
    "url = \"http://search.webofknowledge.com/esti/wokmws/ws/WokSearch\"\n",
    "\n",
    "headers = {\n",
    "     'X-ApiKey': api_key_WOS,\n",
    "     'Accept':'application/json'\n",
    "}\n",
    "\n",
    "\n",
    "\n",
    "parameters = {\n",
    "     \"UT\": \"000492801600048\"       \n",
    "   \n",
    "}\n",
    "\n",
    "response = requests.get(url, headers=headers, params=parameters)\n",
    "\n",
    "print(response.url)\n",
    "print(response.status_code)\n",
    "\n",
    "response_json = response.json()\n",
    "print(json.dumps(response_json, indent=4, sort_keys=True))"
   ]
  },
  {
   "cell_type": "code",
   "execution_count": null,
   "metadata": {},
   "outputs": [],
   "source": []
  },
  {
   "cell_type": "code",
   "execution_count": null,
   "metadata": {},
   "outputs": [],
   "source": [
    "#https://clarivate.com/webofsciencegroup/solutions/xml-and-apis/\n",
    "#https://developer.clarivate.com/help\n",
    "#https://api.clarivate.com/api/incites/DocumentLevelMetricsByUT/json\n",
    "#https://github.com/Clarivate-SAR/incites-retrieve\n",
    "\n",
    "url = \"https://api.clarivate.com/api/incites/DocumentLevelMetricsByUT/json\"\n",
    "\n",
    "headers = {\n",
    "     'X-ApiKey': api_key_inCites,\n",
    "     'Accept':'application/json'\n",
    "}\n",
    "\n",
    "\n",
    "\n",
    "parameters = {\n",
    "     \"UT\": \"000492801600048\"       \n",
    "   \n",
    "}\n",
    "\n",
    "response = requests.get(url, headers=headers, params=parameters)\n",
    "\n",
    "\n",
    "print(response.url)\n",
    "print(response.status_code)\n",
    "\n",
    "response_json = response.json()\n",
    "print(json.dumps(response_json, indent=4, sort_keys=True))"
   ]
  },
  {
   "cell_type": "code",
   "execution_count": null,
   "metadata": {},
   "outputs": [],
   "source": []
  }
 ],
 "metadata": {
  "kernelspec": {
   "display_name": "Python 3",
   "language": "python",
   "name": "python3"
  },
  "language_info": {
   "codemirror_mode": {
    "name": "ipython",
    "version": 3
   },
   "file_extension": ".py",
   "mimetype": "text/x-python",
   "name": "python",
   "nbconvert_exporter": "python",
   "pygments_lexer": "ipython3",
   "version": "3.7.0"
  }
 },
 "nbformat": 4,
 "nbformat_minor": 2
}
