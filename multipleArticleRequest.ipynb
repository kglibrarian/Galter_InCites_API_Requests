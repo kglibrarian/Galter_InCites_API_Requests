{
 "cells": [
  {
   "cell_type": "code",
   "execution_count": null,
   "metadata": {},
   "outputs": [],
   "source": [
    "# Dependencies\n",
    "import requests\n",
    "import json\n",
    "import pandas as pd\n",
    "import numpy as np\n",
    "import re\n",
    "import io\n",
    "from config import api_key\n",
    "from collections import OrderedDict\n",
    "from pandas.io.json import json_normalize  "
   ]
  },
  {
   "cell_type": "code",
   "execution_count": null,
   "metadata": {},
   "outputs": [],
   "source": [
    "# Create a reference to the CSV and import it into a Pandas DataFrame\n",
    "csv_path = \"WOS_test.csv\"\n",
    "WOS_df = pd.read_csv(csv_path)\n",
    "WOS_df.head()\n"
   ]
  },
  {
   "cell_type": "code",
   "execution_count": null,
   "metadata": {},
   "outputs": [],
   "source": [
    "#https://api.clarivate.com/api/incites/DocumentLevelMetricsByUT/json\n",
    "\n",
    "url = \"https://api.clarivate.com/api/incites/DocumentLevelMetricsByUT/json\"\n",
    "\n",
    "headers = {\n",
    "     'X-ApiKey': api_key,\n",
    "     'Accept':'application/json'\n",
    "}\n",
    "\n",
    "\n",
    "\n",
    "parameters = {\n",
    "    \"UT\": \"000492801600048\"\n",
    "   \n",
    "}\n",
    "\n",
    "response = requests.get(url, headers=headers, params=parameters)\n",
    "\n",
    "\n",
    "print(response.url)\n",
    "print(response.status_code)\n",
    "\n",
    "response_json = response.json()\n",
    "print(json.dumps(response_json, indent=4, sort_keys=True))"
   ]
  },
  {
   "cell_type": "code",
   "execution_count": null,
   "metadata": {},
   "outputs": [],
   "source": []
  }
 ],
 "metadata": {
  "kernelspec": {
   "display_name": "Python 3",
   "language": "python",
   "name": "python3"
  },
  "language_info": {
   "codemirror_mode": {
    "name": "ipython",
    "version": 3
   },
   "file_extension": ".py",
   "mimetype": "text/x-python",
   "name": "python",
   "nbconvert_exporter": "python",
   "pygments_lexer": "ipython3",
   "version": "3.7.0"
  }
 },
 "nbformat": 4,
 "nbformat_minor": 2
}
